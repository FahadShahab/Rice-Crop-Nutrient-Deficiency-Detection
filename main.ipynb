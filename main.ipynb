{
  "cells": [
    {
      "cell_type": "code",
      "execution_count": 1,
      "id": "c8db7116",
      "metadata": {
        "colab": {
          "base_uri": "https://localhost:8080/"
        },
        "id": "c8db7116",
        "outputId": "63885e61-b454-4fac-e324-0452dd55dfcd"
      },
      "outputs": [
        {
          "name": "stdout",
          "output_type": "stream",
          "text": [
            "2.6.0+cu124\n",
            "CUDA available: True\n"
          ]
        }
      ],
      "source": [
        "import torch\n",
        "print(torch.__version__)\n",
        "print(\"CUDA available:\", torch.cuda.is_available())"
      ]
    },
    {
      "cell_type": "code",
      "execution_count": 2,
      "id": "f1a49cca",
      "metadata": {
        "id": "f1a49cca"
      },
      "outputs": [],
      "source": [
        "import os\n",
        "import shutil\n",
        "from tqdm import tqdm\n",
        "import torch\n",
        "import torch.nn as nn\n",
        "import torch.optim as optim\n",
        "from torchvision import models, transforms\n",
        "from torchvision.datasets import ImageFolder\n",
        "from torch.utils.data import DataLoader\n",
        "from sklearn.model_selection import train_test_split"
      ]
    },
    {
      "cell_type": "code",
      "execution_count": null,
      "id": "e1a88d39",
      "metadata": {
        "colab": {
          "base_uri": "https://localhost:8080/"
        },
        "id": "e1a88d39",
        "outputId": "c66f0af8-31d2-4e94-8823-203cc94725e5"
      },
      "outputs": [
        {
          "name": "stdout",
          "output_type": "stream",
          "text": [
            "Mounted at /content/drive\n"
          ]
        }
      ],
      "source": [
        "from google.colab import drive\n",
        "\n",
        "drive.mount('/content/drive')"
      ]
    },
    {
      "cell_type": "code",
      "execution_count": null,
      "id": "20f007bd",
      "metadata": {
        "colab": {
          "base_uri": "https://localhost:8080/"
        },
        "id": "20f007bd",
        "outputId": "72f3eb86-75f4-431a-e8f6-e05bd0012b6f"
      },
      "outputs": [
        {
          "name": "stdout",
          "output_type": "stream",
          "text": [
            "✅ Dataset split complete!\n"
          ]
        }
      ],
      "source": [
        "import os\n",
        "import shutil\n",
        "from sklearn.model_selection import train_test_split\n",
        "\n",
        "base_dir = '/content/drive/MyDrive'\n",
        "\n",
        "dataset_dir = os.path.join(base_dir, 'DL_Project/dataset/rice_plant_lacks_nutrients')\n",
        "split_dir = os.path.join(base_dir, 'dataset_split')\n",
        "train_dir = os.path.join(split_dir, 'train')\n",
        "val_dir = os.path.join(split_dir, 'val')\n",
        "\n",
        "def prepare_dataset():\n",
        "    os.makedirs(train_dir, exist_ok=True)\n",
        "    os.makedirs(val_dir, exist_ok=True)\n",
        "\n",
        "    for class_name in os.listdir(dataset_dir):\n",
        "        class_path = os.path.join(dataset_dir, class_name)\n",
        "        if os.path.isdir(class_path):\n",
        "            images = [f for f in os.listdir(class_path) if os.path.isfile(os.path.join(class_path, f))]\n",
        "            train_imgs, val_imgs = train_test_split(images, test_size=0.2, random_state=42)\n",
        "\n",
        "            os.makedirs(os.path.join(train_dir, class_name), exist_ok=True)\n",
        "            os.makedirs(os.path.join(val_dir, class_name), exist_ok=True)\n",
        "\n",
        "            for img in train_imgs:\n",
        "                shutil.copy(os.path.join(class_path, img), os.path.join(train_dir, class_name, img))\n",
        "            for img in val_imgs:\n",
        "                shutil.copy(os.path.join(class_path, img), os.path.join(val_dir, class_name, img))\n",
        "\n",
        "    print(\"✅ Dataset split complete!\")\n",
        "\n",
        "prepare_dataset()\n"
      ]
    },
    {
      "cell_type": "code",
      "execution_count": null,
      "id": "CPZojqtJVJmB",
      "metadata": {
        "colab": {
          "base_uri": "https://localhost:8080/"
        },
        "id": "CPZojqtJVJmB",
        "outputId": "174b480a-29fe-4ab8-9598-43c3ce405d6c"
      },
      "outputs": [
        {
          "name": "stdout",
          "output_type": "stream",
          "text": [
            "✅ Data loaded!\n",
            "Classes: ['Nitrogen(N)', 'Phosphorus(P)', 'Potassium(K)']\n"
          ]
        }
      ],
      "source": [
        "from torchvision import datasets, transforms\n",
        "from torch.utils.data import DataLoader\n",
        "\n",
        "transform = transforms.Compose([\n",
        "    transforms.Resize((224, 224)),\n",
        "    transforms.ToTensor(),\n",
        "    transforms.Normalize([0.485, 0.456, 0.406],\n",
        "                         [0.229, 0.224, 0.225])\n",
        "])\n",
        "\n",
        "train_dataset = datasets.ImageFolder(train_dir, transform=transform)\n",
        "val_dataset = datasets.ImageFolder(val_dir, transform=transform)\n",
        "\n",
        "train_loader = DataLoader(train_dataset, batch_size=32, shuffle=True)\n",
        "val_loader = DataLoader(val_dataset, batch_size=32, shuffle=False)\n",
        "\n",
        "print(\"✅ Data loaded!\")\n",
        "print(\"Classes:\", train_dataset.classes)"
      ]
    },
    {
      "cell_type": "code",
      "execution_count": null,
      "id": "l0IMJjfuKTZV",
      "metadata": {
        "id": "l0IMJjfuKTZV"
      },
      "outputs": [],
      "source": [
        "inception_transform = transforms.Compose([\n",
        "    transforms.Resize((299, 299)),  \n",
        "    transforms.ToTensor(),\n",
        "    transforms.Normalize([0.485, 0.456, 0.406],\n",
        "                         [0.229, 0.224, 0.225])\n",
        "])\n",
        "\n",
        "inception_train_dataset = datasets.ImageFolder(train_dir, transform=inception_transform)\n",
        "inception_val_dataset = datasets.ImageFolder(val_dir, transform=inception_transform)\n",
        "\n",
        "inception_train_loader = DataLoader(inception_train_dataset, batch_size=32, shuffle=True)\n",
        "inception_val_loader = DataLoader(inception_val_dataset, batch_size=32, shuffle=False)"
      ]
    },
    {
      "cell_type": "code",
      "execution_count": null,
      "id": "Uw0c4hSYKVFp",
      "metadata": {
        "colab": {
          "base_uri": "https://localhost:8080/"
        },
        "id": "Uw0c4hSYKVFp",
        "outputId": "904c4d8a-46e7-4789-d0a2-3517cfadc34e"
      },
      "outputs": [
        {
          "name": "stderr",
          "output_type": "stream",
          "text": [
            "Downloading: \"https://download.pytorch.org/models/densenet169-b2777c0a.pth\" to /root/.cache/torch/hub/checkpoints/densenet169-b2777c0a.pth\n",
            "100%|██████████| 54.7M/54.7M [00:00<00:00, 145MB/s]\n"
          ]
        }
      ],
      "source": [
        "import torch\n",
        "import torch.nn as nn\n",
        "import torch.optim as optim\n",
        "from torchvision import models\n",
        "from tqdm import tqdm\n",
        "\n",
        "device = torch.device(\"cuda\" if torch.cuda.is_available() else \"cpu\")\n",
        "\n",
        "class ModifiedDenseNet169(nn.Module):\n",
        "    def __init__(self, num_classes=3):\n",
        "        super(ModifiedDenseNet169, self).__init__()\n",
        "        self.model = models.densenet169(weights=models.DenseNet169_Weights.IMAGENET1K_V1)\n",
        "\n",
        "        self.model.classifier = nn.Sequential(\n",
        "            nn.Linear(self.model.classifier.in_features, 512),\n",
        "            nn.ReLU(),\n",
        "            nn.Dropout(0.25),\n",
        "            nn.Linear(512, num_classes)\n",
        "        )\n",
        "\n",
        "    def forward(self, x):\n",
        "        return self.model(x)\n",
        "\n",
        "densenet169_model = ModifiedDenseNet169(num_classes=3).to(device)"
      ]
    },
    {
      "cell_type": "code",
      "execution_count": null,
      "id": "qpaMZWcNKW_a",
      "metadata": {
        "colab": {
          "base_uri": "https://localhost:8080/"
        },
        "id": "qpaMZWcNKW_a",
        "outputId": "c50458b4-e79c-44a0-d224-4d5e4f4ce498"
      },
      "outputs": [
        {
          "name": "stderr",
          "output_type": "stream",
          "text": [
            "Downloading: \"https://download.pytorch.org/models/densenet201-c1103571.pth\" to /root/.cache/torch/hub/checkpoints/densenet201-c1103571.pth\n",
            "100%|██████████| 77.4M/77.4M [00:00<00:00, 134MB/s]\n"
          ]
        }
      ],
      "source": [
        "import torch\n",
        "import torch.nn as nn\n",
        "import torchvision.models as models\n",
        "\n",
        "device = torch.device(\"cuda\" if torch.cuda.is_available() else \"cpu\")\n",
        "\n",
        "class ModifiedDenseNet201(nn.Module):\n",
        "    def __init__(self, num_classes=3):\n",
        "        super(ModifiedDenseNet201, self).__init__()\n",
        "        self.model = models.densenet201(weights=models.DenseNet201_Weights.IMAGENET1K_V1)\n",
        "\n",
        "        self.model.classifier = nn.Sequential(\n",
        "            nn.Linear(self.model.classifier.in_features, 512),\n",
        "            nn.ReLU(),\n",
        "            nn.Dropout(0.25),\n",
        "            nn.Linear(512, num_classes)\n",
        "        )\n",
        "\n",
        "    def forward(self, x):\n",
        "        return self.model(x)\n",
        "\n",
        "densenet201_model = ModifiedDenseNet201().to(device)"
      ]
    },
    {
      "cell_type": "code",
      "execution_count": null,
      "id": "-OioOqc2KaTv",
      "metadata": {
        "colab": {
          "base_uri": "https://localhost:8080/"
        },
        "id": "-OioOqc2KaTv",
        "outputId": "9aae51b8-912b-4a95-83d1-bf82a5157b16"
      },
      "outputs": [
        {
          "name": "stderr",
          "output_type": "stream",
          "text": [
            "Downloading: \"https://download.pytorch.org/models/inception_v3_google-0cc3c7bd.pth\" to /root/.cache/torch/hub/checkpoints/inception_v3_google-0cc3c7bd.pth\n",
            "100%|██████████| 104M/104M [00:00<00:00, 142MB/s]\n"
          ]
        }
      ],
      "source": [
        "import torch\n",
        "import torch.nn as nn\n",
        "import torchvision.models as models\n",
        "\n",
        "device = torch.device(\"cuda\" if torch.cuda.is_available() else \"cpu\")\n",
        "\n",
        "class ModifiedInceptionV3(nn.Module):\n",
        "    def __init__(self, num_classes=3):\n",
        "        super(ModifiedInceptionV3, self).__init__()\n",
        "        self.model = models.inception_v3(weights=models.Inception_V3_Weights.IMAGENET1K_V1, aux_logits=True)\n",
        "\n",
        "        self.model.fc = nn.Sequential(\n",
        "            nn.Linear(self.model.fc.in_features, 512),\n",
        "            nn.ReLU(),\n",
        "            nn.Dropout(0.25),\n",
        "            nn.Linear(512, num_classes)\n",
        "        )\n",
        "\n",
        "    def forward(self, x):\n",
        "        return self.model(x)\n",
        "\n",
        "inceptionv3_model = ModifiedInceptionV3().to(device)"
      ]
    },
    {
      "cell_type": "code",
      "execution_count": null,
      "id": "0c9FOrmHKczK",
      "metadata": {
        "colab": {
          "base_uri": "https://localhost:8080/"
        },
        "id": "0c9FOrmHKczK",
        "outputId": "da6eb455-8199-4634-e539-49cd510b239f"
      },
      "outputs": [
        {
          "name": "stderr",
          "output_type": "stream",
          "text": [
            "Downloading: \"https://download.pytorch.org/models/resnet50-11ad3fa6.pth\" to /root/.cache/torch/hub/checkpoints/resnet50-11ad3fa6.pth\n",
            "100%|██████████| 97.8M/97.8M [00:00<00:00, 150MB/s]\n"
          ]
        }
      ],
      "source": [
        "import torch\n",
        "import torch.nn as nn\n",
        "import torchvision.models as models\n",
        "\n",
        "device = torch.device(\"cuda\" if torch.cuda.is_available() else \"cpu\")\n",
        "\n",
        "class ModifiedResNet50V2(nn.Module):\n",
        "    def __init__(self, num_classes=3):\n",
        "        super(ModifiedResNet50V2, self).__init__()\n",
        "        self.model = models.resnet50(weights=models.ResNet50_Weights.IMAGENET1K_V2)  \n",
        "        self.model.fc = nn.Sequential(\n",
        "            nn.Linear(self.model.fc.in_features, 512),\n",
        "            nn.ReLU(),\n",
        "            nn.Dropout(0.25),\n",
        "            nn.Linear(512, num_classes)\n",
        "        )\n",
        "\n",
        "    def forward(self, x):\n",
        "        return self.model(x)\n",
        "\n",
        "resnet50v2_model = ModifiedResNet50V2().to(device)"
      ]
    },
    {
      "cell_type": "code",
      "execution_count": null,
      "id": "-DpGs63JKeSE",
      "metadata": {
        "colab": {
          "base_uri": "https://localhost:8080/"
        },
        "id": "-DpGs63JKeSE",
        "outputId": "340f43f6-8b1a-4596-e139-2a836503499b"
      },
      "outputs": [
        {
          "name": "stderr",
          "output_type": "stream",
          "text": [
            "Downloading: \"https://download.pytorch.org/models/densenet121-a639ec97.pth\" to /root/.cache/torch/hub/checkpoints/densenet121-a639ec97.pth\n",
            "100%|██████████| 30.8M/30.8M [00:00<00:00, 129MB/s]\n"
          ]
        }
      ],
      "source": [
        "import torch\n",
        "import torch.nn as nn\n",
        "import torchvision.models as models\n",
        "\n",
        "device = torch.device(\"cuda\" if torch.cuda.is_available() else \"cpu\")\n",
        "\n",
        "class ModifiedDenseNet121(nn.Module):\n",
        "    def __init__(self, num_classes=3):\n",
        "        super(ModifiedDenseNet121, self).__init__()\n",
        "        self.model = models.densenet121(weights=models.DenseNet121_Weights.IMAGENET1K_V1)  \n",
        "        self.model.classifier = nn.Sequential(\n",
        "            nn.Linear(self.model.classifier.in_features, 512),\n",
        "            nn.ReLU(),\n",
        "            nn.Dropout(0.25),\n",
        "            nn.Linear(512, num_classes)\n",
        "        )\n",
        "\n",
        "    def forward(self, x):\n",
        "        return self.model(x)\n",
        "\n",
        "densenet121_model = ModifiedDenseNet121().to(device)"
      ]
    },
    {
      "cell_type": "code",
      "execution_count": 12,
      "id": "EGPFujyIKgQl",
      "metadata": {
        "id": "EGPFujyIKgQl"
      },
      "outputs": [],
      "source": [
        "def train_model(model, train_loader, val_loader, epochs=50, lr=0.0001, is_inception=False):\n",
        "    print(f'Using {model.__class__.__name__} for training')\n",
        "    print('----------------------------')\n",
        "\n",
        "    model = model.to(device)\n",
        "    criterion = nn.CrossEntropyLoss()\n",
        "    optimizer = optim.Adam(model.parameters(), lr=lr)\n",
        "\n",
        "    for epoch in range(epochs):\n",
        "        model.train()\n",
        "        running_loss, correct, total = 0.0, 0, 0\n",
        "\n",
        "        for images, labels in tqdm(train_loader, desc=f\"Epoch {epoch + 1}/{epochs}\"):\n",
        "            images, labels = images.to(device), labels.to(device)\n",
        "\n",
        "            optimizer.zero_grad()\n",
        "\n",
        "            if is_inception:\n",
        "                outputs, aux_outputs = model(images)\n",
        "                loss1 = criterion(outputs, labels)\n",
        "                loss2 = criterion(aux_outputs, labels)\n",
        "                loss = loss1 + 0.4 * loss2\n",
        "            else:\n",
        "                outputs = model(images)\n",
        "                loss = criterion(outputs, labels)\n",
        "\n",
        "            loss.backward()\n",
        "            optimizer.step()\n",
        "\n",
        "            running_loss += loss.item()\n",
        "            correct += (outputs.argmax(1) == labels).sum().item()\n",
        "            total += labels.size(0)\n",
        "\n",
        "        train_acc = correct / total\n",
        "        val_acc = evaluate_model(model, val_loader)\n",
        "\n",
        "        print(f\"Epoch {epoch + 1}/{epochs} | Loss: {running_loss / len(train_loader):.4f} | Train Acc: {train_acc:.4f} | Val Acc: {val_acc:.4f}\")\n",
        "\n",
        "    print()\n",
        "    return model\n"
      ]
    },
    {
      "cell_type": "code",
      "execution_count": 13,
      "id": "Q94-BmoLKiAf",
      "metadata": {
        "id": "Q94-BmoLKiAf"
      },
      "outputs": [],
      "source": [
        "def evaluate_model(model, val_loader):\n",
        "    model.eval()\n",
        "    correct, total = 0, 0\n",
        "\n",
        "    with torch.no_grad():\n",
        "        for images, labels in val_loader:\n",
        "            images, labels = images.to(device), labels.to(device)\n",
        "            outputs = model(images)\n",
        "            correct += (outputs.argmax(1) == labels).sum().item()\n",
        "            total += labels.size(0)\n",
        "\n",
        "    return correct / total"
      ]
    },
    {
      "cell_type": "code",
      "execution_count": null,
      "id": "aTV8upmpKjjQ",
      "metadata": {
        "colab": {
          "base_uri": "https://localhost:8080/"
        },
        "id": "aTV8upmpKjjQ",
        "outputId": "9346c325-23d5-4aba-ac41-17a4b9d7b335"
      },
      "outputs": [
        {
          "name": "stdout",
          "output_type": "stream",
          "text": [
            "Using ModifiedDenseNet169 for training\n",
            "----------------------------\n"
          ]
        },
        {
          "name": "stderr",
          "output_type": "stream",
          "text": [
            "Epoch 1/5: 100%|██████████| 28/28 [00:41<00:00,  1.47s/it]\n"
          ]
        },
        {
          "name": "stdout",
          "output_type": "stream",
          "text": [
            "Epoch 1/5 | Loss: 0.0279 | Train Acc: 0.9943 | Val Acc: 0.9591\n"
          ]
        },
        {
          "name": "stderr",
          "output_type": "stream",
          "text": [
            "Epoch 2/5: 100%|██████████| 28/28 [00:43<00:00,  1.56s/it]\n"
          ]
        },
        {
          "name": "stdout",
          "output_type": "stream",
          "text": [
            "Epoch 2/5 | Loss: 0.0102 | Train Acc: 0.9977 | Val Acc: 0.9636\n"
          ]
        },
        {
          "name": "stderr",
          "output_type": "stream",
          "text": [
            "Epoch 3/5: 100%|██████████| 28/28 [00:40<00:00,  1.46s/it]\n"
          ]
        },
        {
          "name": "stdout",
          "output_type": "stream",
          "text": [
            "Epoch 3/5 | Loss: 0.0040 | Train Acc: 0.9977 | Val Acc: 0.9727\n"
          ]
        },
        {
          "name": "stderr",
          "output_type": "stream",
          "text": [
            "Epoch 4/5: 100%|██████████| 28/28 [00:41<00:00,  1.46s/it]\n"
          ]
        },
        {
          "name": "stdout",
          "output_type": "stream",
          "text": [
            "Epoch 4/5 | Loss: 0.0014 | Train Acc: 1.0000 | Val Acc: 0.9773\n"
          ]
        },
        {
          "name": "stderr",
          "output_type": "stream",
          "text": [
            "Epoch 5/5: 100%|██████████| 28/28 [00:41<00:00,  1.47s/it]\n"
          ]
        },
        {
          "name": "stdout",
          "output_type": "stream",
          "text": [
            "Epoch 5/5 | Loss: 0.0006 | Train Acc: 1.0000 | Val Acc: 0.9773\n",
            "\n",
            "Using ModifiedDenseNet201 for training\n",
            "----------------------------\n"
          ]
        },
        {
          "name": "stderr",
          "output_type": "stream",
          "text": [
            "Epoch 1/5: 100%|██████████| 28/28 [00:44<00:00,  1.60s/it]\n"
          ]
        },
        {
          "name": "stdout",
          "output_type": "stream",
          "text": [
            "Epoch 1/5 | Loss: 0.0051 | Train Acc: 0.9989 | Val Acc: 0.9864\n"
          ]
        },
        {
          "name": "stderr",
          "output_type": "stream",
          "text": [
            "Epoch 2/5: 100%|██████████| 28/28 [00:43<00:00,  1.56s/it]\n"
          ]
        },
        {
          "name": "stdout",
          "output_type": "stream",
          "text": [
            "Epoch 2/5 | Loss: 0.0187 | Train Acc: 0.9966 | Val Acc: 0.9636\n"
          ]
        },
        {
          "name": "stderr",
          "output_type": "stream",
          "text": [
            "Epoch 3/5: 100%|██████████| 28/28 [00:44<00:00,  1.57s/it]\n"
          ]
        },
        {
          "name": "stdout",
          "output_type": "stream",
          "text": [
            "Epoch 3/5 | Loss: 0.0144 | Train Acc: 0.9954 | Val Acc: 0.9864\n"
          ]
        },
        {
          "name": "stderr",
          "output_type": "stream",
          "text": [
            "Epoch 4/5: 100%|██████████| 28/28 [00:43<00:00,  1.56s/it]\n"
          ]
        },
        {
          "name": "stdout",
          "output_type": "stream",
          "text": [
            "Epoch 4/5 | Loss: 0.0044 | Train Acc: 0.9977 | Val Acc: 0.9864\n"
          ]
        },
        {
          "name": "stderr",
          "output_type": "stream",
          "text": [
            "Epoch 5/5: 100%|██████████| 28/28 [00:44<00:00,  1.60s/it]\n"
          ]
        },
        {
          "name": "stdout",
          "output_type": "stream",
          "text": [
            "Epoch 5/5 | Loss: 0.0056 | Train Acc: 0.9966 | Val Acc: 0.9136\n",
            "\n",
            "Using ModifiedInceptionV3 for training\n",
            "----------------------------\n"
          ]
        },
        {
          "name": "stderr",
          "output_type": "stream",
          "text": [
            "Epoch 1/5: 100%|██████████| 28/28 [00:44<00:00,  1.60s/it]\n"
          ]
        },
        {
          "name": "stdout",
          "output_type": "stream",
          "text": [
            "Epoch 1/5 | Loss: 0.0800 | Train Acc: 0.9818 | Val Acc: 0.9636\n"
          ]
        },
        {
          "name": "stderr",
          "output_type": "stream",
          "text": [
            "Epoch 2/5: 100%|██████████| 28/28 [00:45<00:00,  1.63s/it]\n"
          ]
        },
        {
          "name": "stdout",
          "output_type": "stream",
          "text": [
            "Epoch 2/5 | Loss: 0.0611 | Train Acc: 0.9863 | Val Acc: 0.9773\n"
          ]
        },
        {
          "name": "stderr",
          "output_type": "stream",
          "text": [
            "Epoch 3/5: 100%|██████████| 28/28 [00:45<00:00,  1.62s/it]\n"
          ]
        },
        {
          "name": "stdout",
          "output_type": "stream",
          "text": [
            "Epoch 3/5 | Loss: 0.0229 | Train Acc: 0.9954 | Val Acc: 0.9682\n"
          ]
        },
        {
          "name": "stderr",
          "output_type": "stream",
          "text": [
            "Epoch 4/5: 100%|██████████| 28/28 [00:46<00:00,  1.65s/it]\n"
          ]
        },
        {
          "name": "stdout",
          "output_type": "stream",
          "text": [
            "Epoch 4/5 | Loss: 0.0285 | Train Acc: 0.9932 | Val Acc: 0.9727\n"
          ]
        },
        {
          "name": "stderr",
          "output_type": "stream",
          "text": [
            "Epoch 5/5: 100%|██████████| 28/28 [00:44<00:00,  1.59s/it]\n"
          ]
        },
        {
          "name": "stdout",
          "output_type": "stream",
          "text": [
            "Epoch 5/5 | Loss: 0.0441 | Train Acc: 0.9932 | Val Acc: 0.9545\n",
            "\n",
            "Using ModifiedResNet50V2 for training\n",
            "----------------------------\n"
          ]
        },
        {
          "name": "stderr",
          "output_type": "stream",
          "text": [
            "Epoch 1/5: 100%|██████████| 28/28 [00:39<00:00,  1.42s/it]\n"
          ]
        },
        {
          "name": "stdout",
          "output_type": "stream",
          "text": [
            "Epoch 1/5 | Loss: 0.8307 | Train Acc: 0.6378 | Val Acc: 0.8227\n"
          ]
        },
        {
          "name": "stderr",
          "output_type": "stream",
          "text": [
            "Epoch 2/5: 100%|██████████| 28/28 [00:39<00:00,  1.40s/it]\n"
          ]
        },
        {
          "name": "stdout",
          "output_type": "stream",
          "text": [
            "Epoch 2/5 | Loss: 0.2374 | Train Acc: 0.9385 | Val Acc: 0.9318\n"
          ]
        },
        {
          "name": "stderr",
          "output_type": "stream",
          "text": [
            "Epoch 3/5: 100%|██████████| 28/28 [00:40<00:00,  1.44s/it]\n"
          ]
        },
        {
          "name": "stdout",
          "output_type": "stream",
          "text": [
            "Epoch 3/5 | Loss: 0.0616 | Train Acc: 0.9841 | Val Acc: 0.9500\n"
          ]
        },
        {
          "name": "stderr",
          "output_type": "stream",
          "text": [
            "Epoch 4/5: 100%|██████████| 28/28 [00:39<00:00,  1.42s/it]\n"
          ]
        },
        {
          "name": "stdout",
          "output_type": "stream",
          "text": [
            "Epoch 4/5 | Loss: 0.0281 | Train Acc: 0.9954 | Val Acc: 0.9636\n"
          ]
        },
        {
          "name": "stderr",
          "output_type": "stream",
          "text": [
            "Epoch 5/5: 100%|██████████| 28/28 [00:39<00:00,  1.41s/it]\n"
          ]
        },
        {
          "name": "stdout",
          "output_type": "stream",
          "text": [
            "Epoch 5/5 | Loss: 0.0082 | Train Acc: 1.0000 | Val Acc: 0.9636\n",
            "\n",
            "Using ModifiedDenseNet121 for training\n",
            "----------------------------\n"
          ]
        },
        {
          "name": "stderr",
          "output_type": "stream",
          "text": [
            "Epoch 1/5: 100%|██████████| 28/28 [00:39<00:00,  1.42s/it]\n"
          ]
        },
        {
          "name": "stdout",
          "output_type": "stream",
          "text": [
            "Epoch 1/5 | Loss: 0.6635 | Train Acc: 0.7733 | Val Acc: 0.9318\n"
          ]
        },
        {
          "name": "stderr",
          "output_type": "stream",
          "text": [
            "Epoch 2/5: 100%|██████████| 28/28 [00:40<00:00,  1.45s/it]\n"
          ]
        },
        {
          "name": "stdout",
          "output_type": "stream",
          "text": [
            "Epoch 2/5 | Loss: 0.1350 | Train Acc: 0.9636 | Val Acc: 0.9727\n"
          ]
        },
        {
          "name": "stderr",
          "output_type": "stream",
          "text": [
            "Epoch 3/5: 100%|██████████| 28/28 [00:40<00:00,  1.44s/it]\n"
          ]
        },
        {
          "name": "stdout",
          "output_type": "stream",
          "text": [
            "Epoch 3/5 | Loss: 0.0428 | Train Acc: 0.9920 | Val Acc: 0.9682\n"
          ]
        },
        {
          "name": "stderr",
          "output_type": "stream",
          "text": [
            "Epoch 4/5: 100%|██████████| 28/28 [00:39<00:00,  1.41s/it]\n"
          ]
        },
        {
          "name": "stdout",
          "output_type": "stream",
          "text": [
            "Epoch 4/5 | Loss: 0.0393 | Train Acc: 0.9897 | Val Acc: 0.9682\n"
          ]
        },
        {
          "name": "stderr",
          "output_type": "stream",
          "text": [
            "Epoch 5/5: 100%|██████████| 28/28 [00:39<00:00,  1.41s/it]\n"
          ]
        },
        {
          "name": "stdout",
          "output_type": "stream",
          "text": [
            "Epoch 5/5 | Loss: 0.0180 | Train Acc: 0.9989 | Val Acc: 0.9727\n",
            "\n"
          ]
        }
      ],
      "source": [
        "TRAIN_MODELS = True\n",
        "if TRAIN_MODELS:\n",
        "    densenet169_model = train_model(densenet169_model, train_loader, val_loader, epochs=5)\n",
        "    torch.save(densenet169_model.state_dict(), \"densenet169_model.pth\")\n",
        "\n",
        "    densenet201_model = train_model(densenet201_model, train_loader, val_loader, epochs=5)\n",
        "    torch.save(densenet201_model.state_dict(), \"densenet201_model.pth\")\n",
        "\n",
        "    inceptionv3_model = train_model(inceptionv3_model, inception_train_loader, inception_val_loader, epochs=5, is_inception=True)\n",
        "    torch.save(inceptionv3_model.state_dict(), \"inceptionv3_model.pth\")\n",
        "\n",
        "    resnet50v2_model = train_model(resnet50v2_model, train_loader, val_loader, epochs=5)\n",
        "    torch.save(resnet50v2_model.state_dict(), \"resnet50v2_model.pth\")\n",
        "\n",
        "    densenet121_model = train_model(densenet121_model, train_loader, val_loader, epochs=5)\n",
        "    torch.save(densenet121_model.state_dict(), \"densenet121_model.pth\")\n",
        "\n",
        "else:\n",
        "    densenet169_model.load_state_dict(torch.load(\"densenet169_model.pth\"))\n",
        "    densenet201_model.load_state_dict(torch.load(\"densenet201_model.pth\"))\n",
        "    inceptionv3_model.load_state_dict(torch.load(\"inceptionv3_model.pth\"))\n",
        "    resnet50v2_model.load_state_dict(torch.load(\"resnet50v2_model.pth\"))\n",
        "    densenet121_model.load_state_dict(torch.load(\"densenet121_model.pth\"))\n"
      ]
    },
    {
      "cell_type": "code",
      "execution_count": null,
      "id": "30Azep-5N8wl",
      "metadata": {
        "colab": {
          "base_uri": "https://localhost:8080/",
          "height": 879
        },
        "id": "30Azep-5N8wl",
        "outputId": "ee88d5ec-c72a-47f2-a7d8-af810c4297e1"
      },
      "outputs": [
        {
          "name": "stdout",
          "output_type": "stream",
          "text": [
            "✅ ResNet50V2 - Validation Accuracy: 0.9636\n",
            "✅ DenseNet121 - Validation Accuracy: 0.9727\n",
            "✅ DenseNet201 - Validation Accuracy: 0.9136\n",
            "✅ DenseNet169 - Validation Accuracy: 0.9773\n",
            "✅ InceptionV3 - Validation Accuracy: 0.9455\n"
          ]
        },
        {
          "name": "stderr",
          "output_type": "stream",
          "text": [
            "<ipython-input-17-c4b65579a45e>:40: FutureWarning: \n",
            "\n",
            "Passing `palette` without assigning `hue` is deprecated and will be removed in v0.14.0. Assign the `y` variable to `hue` and set `legend=False` for the same effect.\n",
            "\n",
            "  sns.barplot(x=val_accuracies, y=model_names, palette=\"viridis\")\n",
            "<ipython-input-17-c4b65579a45e>:47: UserWarning: Glyph 128202 (\\N{BAR CHART}) missing from font(s) DejaVu Sans.\n",
            "  plt.tight_layout()\n",
            "/usr/local/lib/python3.11/dist-packages/IPython/core/pylabtools.py:151: UserWarning: Glyph 128202 (\\N{BAR CHART}) missing from font(s) DejaVu Sans.\n",
            "  fig.canvas.print_figure(bytes_io, **kw)\n"
          ]
        },
        {
          "data": {
            "image/png": "[encoded data removed]",
            "text/plain": [
              "<Figure size 1000x600 with 1 Axes>"
            ]
          },
          "metadata": {},
          "output_type": "display_data"
        }
      ],
      "source": [
        "import matplotlib.pyplot as plt\n",
        "import seaborn as sns\n",
        "\n",
        "trained_models = [\n",
        "    ('ResNet50V2', resnet50v2_model),\n",
        "    ('DenseNet121', densenet121_model),\n",
        "    ('DenseNet201', densenet201_model),\n",
        "    ('DenseNet169', densenet169_model),\n",
        "    ('InceptionV3', inceptionv3_model)\n",
        "]\n",
        "\n",
        "\n",
        "def collect_validation_accuracies(models, val_loader):\n",
        "    model_names = []\n",
        "    val_accuracies = []\n",
        "\n",
        "    for name, model in models:\n",
        "        model.eval()\n",
        "        correct, total = 0, 0\n",
        "        with torch.no_grad():\n",
        "            for images, labels in val_loader:\n",
        "                images, labels = images.cuda(), labels.cuda()\n",
        "                outputs = model(images)\n",
        "                correct += (outputs.argmax(1) == labels).sum().item()\n",
        "                total += labels.size(0)\n",
        "\n",
        "        acc = correct / total\n",
        "        model_names.append(name)\n",
        "        val_accuracies.append(acc)\n",
        "        print(f\"✅ {name} - Validation Accuracy: {acc:.4f}\")\n",
        "\n",
        "    return model_names, val_accuracies\n",
        "model_names, val_accuracies = collect_validation_accuracies(trained_models, val_loader)\n",
        "\n",
        "\n",
        "# Plotting\n",
        "plt.figure(figsize=(10, 6))\n",
        "sns.barplot(x=val_accuracies, y=model_names, palette=\"viridis\")\n",
        "plt.xlabel(\"Validation Accuracy\", fontsize=12)\n",
        "plt.ylabel(\"Model\", fontsize=12)\n",
        "plt.title(\"📊 Validation Accuracy Comparison of Models\", fontsize=14)\n",
        "plt.xlim(0, 1)\n",
        "for index, value in enumerate(val_accuracies):\n",
        "    plt.text(value + 0.01, index, f\"{value:.2f}\", va='center', fontsize=10)\n",
        "plt.tight_layout()\n",
        "plt.grid(axis='x', linestyle='--', alpha=0.5)\n",
        "plt.show()\n"
      ]
    },
    {
      "cell_type": "code",
      "execution_count": null,
      "id": "3eqCoNUaLD15",
      "metadata": {
        "colab": {
          "base_uri": "https://localhost:8080/"
        },
        "id": "3eqCoNUaLD15",
        "outputId": "d10ed274-a304-49af-86f8-91b7af62db1e"
      },
      "outputs": [
        {
          "name": "stdout",
          "output_type": "stream",
          "text": [
            "✅ Ensemble Accuracy: 0.9682\n"
          ]
        }
      ],
      "source": [
        "import torch.nn.functional as F\n",
        "\n",
        "def evaluate_ensemble(models, weights, val_loader):\n",
        "    assert len(models) == len(weights), \"Each model must have a corresponding weight\"\n",
        "\n",
        "    for model in models:\n",
        "        model.eval()\n",
        "\n",
        "    correct, total = 0, 0\n",
        "\n",
        "    with torch.no_grad():\n",
        "        for images, labels in val_loader:\n",
        "            batch_size = images.size(0)\n",
        "            images = images.to(device)\n",
        "            labels = labels.to(device)\n",
        "\n",
        "            ensemble_probs = torch.zeros((batch_size, 3)).to(device)  \n",
        "\n",
        "            for i, (model, weight) in enumerate(zip(models, weights)):\n",
        "                if isinstance(model, ModifiedInceptionV3):\n",
        "                    # Resize images to 299x299 for Inception\n",
        "                    images_resized = torch.nn.functional.interpolate(images, size=(299, 299), mode='bilinear', align_corners=False)\n",
        "                    outputs = model(images_resized)\n",
        "                    if isinstance(outputs, tuple):\n",
        "                        outputs = outputs[0]\n",
        "                else:\n",
        "                    outputs = model(images)\n",
        "\n",
        "                probs = F.softmax(outputs, dim=1)\n",
        "                ensemble_probs += weight * probs\n",
        "\n",
        "            preds = ensemble_probs.argmax(dim=1)\n",
        "            correct += (preds == labels).sum().item()\n",
        "            total += labels.size(0)\n",
        "\n",
        "    accuracy = correct / total\n",
        "    print(f\"✅ Ensemble Accuracy: {accuracy:.4f}\")\n",
        "    return accuracy\n",
        "models = [resnet50v2_model, densenet121_model, densenet201_model, densenet169_model, inceptionv3_model]\n",
        "\n",
        "weights = [0.2, 0.2, 0.2, 0.2, 0.2]  \n",
        "\n",
        "ensemble_accuracy = evaluate_ensemble(models, weights, val_loader)\n"
      ]
    },
    {
      "cell_type": "code",
      "execution_count": null,
      "id": "9ByLgpDhefTE",
      "metadata": {
        "colab": {
          "base_uri": "https://localhost:8080/",
          "height": 1000
        },
        "id": "9ByLgpDhefTE",
        "outputId": "a6699d66-362f-4f69-b4b4-c80892a2aab8"
      },
      "outputs": [
        {
          "name": "stdout",
          "output_type": "stream",
          "text": [
            "✅ ResNet50V2 - Accuracy: 0.9636, Precision: 0.9639, Recall: 0.9610, F1-Score: 0.9621\n",
            "✅ DenseNet121 - Accuracy: 0.9727, Precision: 0.9736, Recall: 0.9723, F1-Score: 0.9728\n",
            "✅ DenseNet201 - Accuracy: 0.9136, Precision: 0.9164, Recall: 0.9173, F1-Score: 0.9128\n",
            "✅ DenseNet169 - Accuracy: 0.9773, Precision: 0.9758, Recall: 0.9766, F1-Score: 0.9762\n",
            "✅ InceptionV3 - Accuracy: 0.9455, Precision: 0.9451, Recall: 0.9432, F1-Score: 0.9438\n"
          ]
        },
        {
          "name": "stderr",
          "output_type": "stream",
          "text": [
            "<ipython-input-26-e4e3a044cf6d>:55: FutureWarning: \n",
            "\n",
            "Passing `palette` without assigning `hue` is deprecated and will be removed in v0.14.0. Assign the `y` variable to `hue` and set `legend=False` for the same effect.\n",
            "\n",
            "  sns.barplot(x=metric_values, y=model_names, palette=\"viridis\")\n",
            "<ipython-input-26-e4e3a044cf6d>:62: UserWarning: Glyph 128202 (\\N{BAR CHART}) missing from font(s) DejaVu Sans.\n",
            "  plt.tight_layout()\n",
            "/usr/local/lib/python3.11/dist-packages/IPython/core/pylabtools.py:151: UserWarning: Glyph 128202 (\\N{BAR CHART}) missing from font(s) DejaVu Sans.\n",
            "  fig.canvas.print_figure(bytes_io, **kw)\n"
          ]
        },
        {
          "data": {
            "image/png": "[encoded data removed]",
            "text/plain": [
              "<Figure size 1000x600 with 1 Axes>"
            ]
          },
          "metadata": {},
          "output_type": "display_data"
        },
        {
          "name": "stderr",
          "output_type": "stream",
          "text": [
            "<ipython-input-26-e4e3a044cf6d>:55: FutureWarning: \n",
            "\n",
            "Passing `palette` without assigning `hue` is deprecated and will be removed in v0.14.0. Assign the `y` variable to `hue` and set `legend=False` for the same effect.\n",
            "\n",
            "  sns.barplot(x=metric_values, y=model_names, palette=\"viridis\")\n",
            "<ipython-input-26-e4e3a044cf6d>:62: UserWarning: Glyph 128202 (\\N{BAR CHART}) missing from font(s) DejaVu Sans.\n",
            "  plt.tight_layout()\n",
            "/usr/local/lib/python3.11/dist-packages/IPython/core/pylabtools.py:151: UserWarning: Glyph 128202 (\\N{BAR CHART}) missing from font(s) DejaVu Sans.\n",
            "  fig.canvas.print_figure(bytes_io, **kw)\n"
          ]
        },
        {
          "data": {
            "image/png": "[encoded data removed]",
            "text/plain": [
              "<Figure size 1000x600 with 1 Axes>"
            ]
          },
          "metadata": {},
          "output_type": "display_data"
        },
        {
          "name": "stderr",
          "output_type": "stream",
          "text": [
            "<ipython-input-26-e4e3a044cf6d>:55: FutureWarning: \n",
            "\n",
            "Passing `palette` without assigning `hue` is deprecated and will be removed in v0.14.0. Assign the `y` variable to `hue` and set `legend=False` for the same effect.\n",
            "\n",
            "  sns.barplot(x=metric_values, y=model_names, palette=\"viridis\")\n",
            "<ipython-input-26-e4e3a044cf6d>:62: UserWarning: Glyph 128202 (\\N{BAR CHART}) missing from font(s) DejaVu Sans.\n",
            "  plt.tight_layout()\n",
            "/usr/local/lib/python3.11/dist-packages/IPython/core/pylabtools.py:151: UserWarning: Glyph 128202 (\\N{BAR CHART}) missing from font(s) DejaVu Sans.\n",
            "  fig.canvas.print_figure(bytes_io, **kw)\n"
          ]
        },
        {
          "data": {
            "image/png": "[encoded data removed]",
            "text/plain": [
              "<Figure size 1000x600 with 1 Axes>"
            ]
          },
          "metadata": {},
          "output_type": "display_data"
        },
        {
          "name": "stderr",
          "output_type": "stream",
          "text": [
            "<ipython-input-26-e4e3a044cf6d>:55: FutureWarning: \n",
            "\n",
            "Passing `palette` without assigning `hue` is deprecated and will be removed in v0.14.0. Assign the `y` variable to `hue` and set `legend=False` for the same effect.\n",
            "\n",
            "  sns.barplot(x=metric_values, y=model_names, palette=\"viridis\")\n",
            "<ipython-input-26-e4e3a044cf6d>:62: UserWarning: Glyph 128202 (\\N{BAR CHART}) missing from font(s) DejaVu Sans.\n",
            "  plt.tight_layout()\n",
            "/usr/local/lib/python3.11/dist-packages/IPython/core/pylabtools.py:151: UserWarning: Glyph 128202 (\\N{BAR CHART}) missing from font(s) DejaVu Sans.\n",
            "  fig.canvas.print_figure(bytes_io, **kw)\n"
          ]
        },
        {
          "data": {
            "image/png": "[encoded data removed]",
            "text/plain": [
              "<Figure size 1000x600 with 1 Axes>"
            ]
          },
          "metadata": {},
          "output_type": "display_data"
        },
        {
          "ename": "TypeError",
          "evalue": "cannot unpack non-iterable NoneType object",
          "output_type": "error",
          "traceback": [
            "\u001b[0;31m---------------------------------------------------------------------------\u001b[0m",
            "\u001b[0;31mTypeError\u001b[0m                                 Traceback (most recent call last)",
            "\u001b[0;32m<ipython-input-26-e4e3a044cf6d>\u001b[0m in \u001b[0;36m<cell line: 0>\u001b[0;34m()\u001b[0m\n\u001b[1;32m     66\u001b[0m \u001b[0;34m\u001b[0m\u001b[0m\n\u001b[1;32m     67\u001b[0m \u001b[0;31m# Assuming `trained_models` is your list of models, and `val_loader` is your validation data loader\u001b[0m\u001b[0;34m\u001b[0m\u001b[0;34m\u001b[0m\u001b[0m\n\u001b[0;32m---> 68\u001b[0;31m model_names, val_accuracies, val_precisions, val_recalls, val_f1_scores = collect_and_plot_metrics(\n\u001b[0m\u001b[1;32m     69\u001b[0m     \u001b[0mtrained_models\u001b[0m\u001b[0;34m,\u001b[0m \u001b[0mval_loader\u001b[0m\u001b[0;34m\u001b[0m\u001b[0;34m\u001b[0m\u001b[0m\n\u001b[1;32m     70\u001b[0m )\n",
            "\u001b[0;31mTypeError\u001b[0m: cannot unpack non-iterable NoneType object"
          ]
        }
      ],
      "source": [
        "import torch\n",
        "import numpy as np\n",
        "from sklearn.metrics import precision_score, recall_score, f1_score\n",
        "import seaborn as sns\n",
        "import matplotlib.pyplot as plt\n",
        "\n",
        "# Function to collect accuracy, precision, recall, and F1-score\n",
        "def collect_and_plot_metrics(models, val_loader):\n",
        "    model_names = []\n",
        "    val_accuracies = []\n",
        "    val_precisions = []\n",
        "    val_recalls = []\n",
        "    val_f1_scores = []\n",
        "\n",
        "    for name, model in models:\n",
        "        model.eval()\n",
        "        all_preds = []\n",
        "        all_labels = []\n",
        "\n",
        "        with torch.no_grad():\n",
        "            for images, labels in val_loader:\n",
        "                images, labels = images.cuda(), labels.cuda()\n",
        "                outputs = model(images)\n",
        "                preds = outputs.argmax(1)\n",
        "\n",
        "                all_preds.extend(preds.cpu().numpy())\n",
        "                all_labels.extend(labels.cpu().numpy())\n",
        "\n",
        "        acc = sum(np.array(all_preds) == np.array(all_labels)) / len(all_labels)\n",
        "\n",
        "        precision = precision_score(all_labels, all_preds, average='macro')\n",
        "        recall = recall_score(all_labels, all_preds, average='macro')\n",
        "        f1 = f1_score(all_labels, all_preds, average='macro')\n",
        "\n",
        "        model_names.append(name)\n",
        "        val_accuracies.append(acc)\n",
        "        val_precisions.append(precision)\n",
        "        val_recalls.append(recall)\n",
        "        val_f1_scores.append(f1)\n",
        "\n",
        "        print(f\"✅ {name} - Accuracy: {acc:.4f}, Precision: {precision:.4f}, Recall: {recall:.4f}, F1-Score: {f1:.4f}\")\n",
        "\n",
        "    metrics = {\n",
        "        'Accuracy': val_accuracies,\n",
        "        'Precision': val_precisions,\n",
        "        'Recall': val_recalls,\n",
        "        'F1-Score': val_f1_scores\n",
        "    }\n",
        "\n",
        "    for metric_name, metric_values in metrics.items():\n",
        "        plt.figure(figsize=(10, 6))\n",
        "        sns.barplot(x=metric_values, y=model_names, palette=\"viridis\")\n",
        "        plt.xlabel(f\"{metric_name}\", fontsize=12)\n",
        "        plt.ylabel(\"Model\", fontsize=12)\n",
        "        plt.title(f\"📊 {metric_name} Comparison of Models\", fontsize=14)\n",
        "        plt.xlim(0, 1)\n",
        "        for index, value in enumerate(metric_values):\n",
        "            plt.text(value + 0.01, index, f\"{value:.2f}\", va='center', fontsize=10)\n",
        "        plt.tight_layout()\n",
        "        plt.grid(axis='x', linestyle='--', alpha=0.5)\n",
        "        plt.show()\n",
        "\n",
        "\n",
        "model_names, val_accuracies, val_precisions, val_recalls, val_f1_scores = collect_and_plot_metrics(\n",
        "    trained_models, val_loader\n",
        ")\n"
      ]
    },
    {
      "cell_type": "code",
      "execution_count": null,
      "id": "9zC-P0DPeYCi",
      "metadata": {
        "colab": {
          "base_uri": "https://localhost:8080/"
        },
        "id": "9zC-P0DPeYCi",
        "outputId": "726a099e-ca2a-432f-ff9b-85b080e283ad"
      },
      "outputs": [
        {
          "name": "stdout",
          "output_type": "stream",
          "text": [
            "Predicted class: 2\n",
            "Predicted class name: Potassium\n",
            "Probabilities: tensor([0.0027, 0.0091, 0.9882])\n"
          ]
        }
      ],
      "source": [
        "import torch.nn.functional as F\n",
        "from PIL import Image\n",
        "from torchvision import transforms\n",
        "\n",
        "def predict_single_model(model, image_tensor):\n",
        "    model.eval()\n",
        "    with torch.no_grad():\n",
        "        image_tensor = image_tensor.unsqueeze(0).to(device)  \n",
        "        output = model(image_tensor)\n",
        "        probs = F.softmax(output, dim=1)\n",
        "    return probs.squeeze().cpu().numpy()\n",
        "\n",
        "def load_image(image_path, for_inception=False):\n",
        "    if for_inception:\n",
        "        transform = transforms.Compose([\n",
        "            transforms.Resize((299, 299)),\n",
        "            transforms.ToTensor(),\n",
        "            transforms.Normalize([0.485, 0.456, 0.406],\n",
        "                                 [0.229, 0.224, 0.225])\n",
        "        ])\n",
        "    else:\n",
        "        transform = transforms.Compose([\n",
        "            transforms.Resize((224, 224)),\n",
        "            transforms.ToTensor(),\n",
        "            transforms.Normalize([0.485, 0.456, 0.406],\n",
        "                                 [0.229, 0.224, 0.225])\n",
        "        ])\n",
        "    img = Image.open(image_path).convert('RGB')\n",
        "    return transform(img)\n",
        "\n",
        "def ensemble_predict(image_path, weights):\n",
        "    image_224 = load_image(image_path, for_inception=False)\n",
        "    image_299 = load_image(image_path, for_inception=True)\n",
        "\n",
        "    models_with_weights = [\n",
        "        (resnet50v2_model, weights[0]),\n",
        "        (densenet121_model, weights[1]),\n",
        "        (densenet201_model, weights[2]),\n",
        "        (densenet169_model, weights[3]),\n",
        "        (inceptionv3_model, weights[4])\n",
        "    ]\n",
        "\n",
        "    final_probs = torch.zeros(3)\n",
        "    for i, (model, weight) in enumerate(models_with_weights):\n",
        "        img_tensor = image_299 if isinstance(model, ModifiedInceptionV3) else image_224\n",
        "        probs = torch.tensor(predict_single_model(model, img_tensor))\n",
        "        final_probs += weight * probs\n",
        "\n",
        "    predicted_class = final_probs.argmax().item()\n",
        "    return predicted_class, final_probs\n",
        "\n",
        "weights = [0.2, 0.2, 0.2, 0.2, 0.2]\n",
        "class_names = [\"Nitrogen\", \"Phosphorus\", \"Potassium\"]\n",
        "# image_path = \"/content/drive/MyDrive/dataset_split/val/Potassium(K)/untitled.JPG\"\n",
        "image_path = \"test_image2.jpg\"\n",
        "predicted_class, final_probs = ensemble_predict(image_path, weights)\n",
        "\n",
        "print(f\"Predicted class: {predicted_class}\")\n",
        "print(f\"Predicted class name: {class_names[predicted_class]}\")\n",
        "print(f\"Probabilities: {final_probs}\")"
      ]
    },
    {
      "cell_type": "code",
      "execution_count": null,
      "id": "aLj8RW2lWbMy",
      "metadata": {
        "colab": {
          "base_uri": "https://localhost:8080/"
        },
        "id": "aLj8RW2lWbMy",
        "outputId": "2e70e824-eb41-448d-b460-b92e9c73cac8"
      },
      "outputs": [
        {
          "name": "stdout",
          "output_type": "stream",
          "text": [
            "\n",
            "📷 Predicted Deficiency: Potassium\n",
            "🧠 Class Probabilities: [0.0027133990079164505, 0.009061194024980068, 0.9882254600524902]\n",
            "\n",
            "🌾 Recommended Remedies for Potassium Deficiency:\n",
            " - DAP 10kg\n",
            " - MOP 10kg\n",
            " - Urea 10kg + FYM\n",
            " - DAP foliar\n",
            " - MOP + FYM\n"
          ]
        }
      ],
      "source": [
        "import pandas as pd\n",
        "from sklearn.preprocessing import LabelEncoder\n",
        "from sklearn.tree import DecisionTreeClassifier\n",
        "from sklearn.ensemble import VotingClassifier\n",
        "from PIL import Image\n",
        "import numpy as np\n",
        "import cv2\n",
        "import random\n",
        "\n",
        "expanded_data = [\n",
        "    ['Nitrogen', 'Low', 'Karnataka', 'Red', 'Kharif', 'Urea 20kg + Compost', 1],\n",
        "    ['Nitrogen', 'Medium', 'TamilNadu', 'Black', 'Rabi', 'Urea 30kg split', 1],\n",
        "    ['Nitrogen', 'High', 'Punjab', 'Alluvial', 'Rabi', 'Precision fertigation', 1],\n",
        "    ['Nitrogen', 'Low', 'Maharashtra', 'Black', 'Rabi', 'Urea 10kg + FYM', 1],\n",
        "    ['Nitrogen', 'Medium', 'Kerala', 'Laterite', 'Kharif', 'Cow dung slurry', 1],\n",
        "    ['Nitrogen', 'Low', 'Karnataka', 'Red', 'Rabi', 'Compost only', 0],\n",
        "    ['Potassium', 'Low', 'Kerala', 'Laterite', 'Kharif', 'Wood ash', 1],\n",
        "    ['Potassium', 'Medium', 'TamilNadu', 'Red', 'Rabi', 'MOP 15kg', 1],\n",
        "    ['Potassium', 'High', 'Punjab', 'Alluvial', 'Rabi', 'MOP + FYM', 1],\n",
        "    ['Potassium', 'Low', 'Karnataka', 'Black', 'Kharif', 'Wood ash', 0],\n",
        "    ['Potassium', 'Medium', 'Maharashtra', 'Red', 'Kharif', 'Potash Spray', 1],\n",
        "    ['Potassium', 'High', 'Kerala', 'Laterite', 'Rabi', 'Banana compost', 0],\n",
        "    ['Phosphorus', 'Medium', 'Karnataka', 'Red', 'Kharif', 'DAP 20kg', 1],\n",
        "    ['Phosphorus', 'High', 'Maharashtra', 'Black', 'Rabi', 'Bone meal', 1],\n",
        "    ['Phosphorus', 'Low', 'TamilNadu', 'Laterite', 'Kharif', 'Rock phosphate', 1],\n",
        "    ['Phosphorus', 'Low', 'Kerala', 'Laterite', 'Rabi', 'DAP + Compost', 0],\n",
        "    ['Phosphorus', 'High', 'Punjab', 'Alluvial', 'Kharif', 'DAP foliar spray', 1],\n",
        "    ['Nitrogen', 'Low', 'Karnataka', 'Black', 'Rabi', 'Urea + Vermicompost', 1],\n",
        "    ['Potassium', 'Medium', 'TamilNadu', 'Red', 'Kharif', 'Wood ash', 1],\n",
        "    ['Phosphorus', 'Medium', 'Kerala', 'Laterite', 'Rabi', 'DAP 10kg', 0],\n",
        "    ['Nitrogen', 'Low', 'AndhraPradesh', 'Sandy', 'Kharif', 'Urea 15kg', 1],\n",
        "    ['Phosphorus', 'Medium', 'Rajasthan', 'Sandy', 'Rabi', 'Bone meal', 1],\n",
        "    ['Potassium', 'High', 'UttarPradesh', 'Clay', 'Kharif', 'Wood ash', 1],\n",
        "    ['Potassium', 'Low', 'Bihar', 'Loamy', 'Rabi', 'MOP 10kg', 0],\n",
        "    ['Nitrogen', 'High', 'Gujarat', 'Black', 'Kharif', 'Urea 25kg split', 1],\n",
        "    ['Phosphorus', 'Low', 'Haryana', 'Alluvial', 'Rabi', 'Rock phosphate', 0],\n",
        "    ['Potassium', 'Medium', 'Assam', 'Silt', 'Kharif', 'Potash foliar', 1],\n",
        "    ['Nitrogen', 'Medium', 'WestBengal', 'Clay', 'Rabi', 'Compost only', 0],\n",
        "    ['Phosphorus', 'High', 'Odisha', 'Laterite', 'Kharif', 'DAP foliar', 1],\n",
        "    ['Nitrogen', 'Low', 'TamilNadu', 'Red', 'Kharif', 'Urea 20kg + Compost', 1],\n",
        "    ['Nitrogen', 'Low', 'TamilNadu', 'Red', 'Kharif', 'Urea 20kg + Compost', 0],\n",
        "    ['Phosphorus', 'Low', 'Kerala', 'Red', 'Rabi', 'DAP 20kg', 1],\n",
        "    ['Phosphorus', 'Low', 'Kerala', 'Red', 'Rabi', 'DAP 20kg', 0],\n",
        "    ['Potassium', 'Medium', 'Kerala', 'Laterite', 'Kharif', 'Wood ash', 1],\n",
        "    ['Potassium', 'Medium', 'Kerala', 'Laterite', 'Kharif', 'Wood ash', 0],\n",
        "]\n",
        "\n",
        "df = pd.DataFrame(expanded_data, columns=['Deficiency', 'Income', 'Region', 'Soil_Type', 'Season', 'Remedy', 'Success'])\n",
        "\n",
        "encoders = {}\n",
        "for col in df.columns[:-1]:\n",
        "    le = LabelEncoder()\n",
        "    df[col] = le.fit_transform(df[col])\n",
        "    encoders[col] = le\n",
        "\n",
        "X = df.drop('Success', axis=1)\n",
        "y = df['Success']\n",
        "\n",
        "clf = DecisionTreeClassifier()\n",
        "clf.fit(X, y)\n",
        "\n",
        "def recommend_remedy(deficiency, income, region, soil_type, season, remedy_options):\n",
        "    recommendations = []\n",
        "    for remedy in remedy_options:\n",
        "        test_df = pd.DataFrame([[deficiency, income, region, soil_type, season, remedy]],\n",
        "                               columns=['Deficiency', 'Income', 'Region', 'Soil_Type', 'Season', 'Remedy'])\n",
        "\n",
        "        for col in test_df.columns:\n",
        "            if col in encoders:\n",
        "                test_df[col] = encoders[col].transform(test_df[col])\n",
        "            else:\n",
        "                print(f\"⚠️ Warning: No encoder found for column {col}\")\n",
        "\n",
        "        prediction = clf.predict(test_df)\n",
        "        if prediction[0] == 1:\n",
        "            recommendations.append(remedy)\n",
        "    \n",
        "    random.shuffle(recommendations)\n",
        "    return recommendations[:5]\n",
        "\n",
        "image_path = \"test_image2.jpg\"\n",
        "\n",
        "predicted_class, final_probs = ensemble_predict(image_path, weights)\n",
        "predicted_deficiency = class_names[predicted_class]\n",
        "\n",
        "print(f\"\\n📷 Predicted Deficiency: {predicted_deficiency}\")\n",
        "print(f\"🧠 Class Probabilities: {final_probs.tolist()}\")\n",
        "\n",
        "farmer_data = {\n",
        "    'income': 'Low',\n",
        "    'region': 'Karnataka',\n",
        "    'soil_type': 'Red',\n",
        "    'season': 'Kharif'\n",
        "}\n",
        "\n",
        "remedy_options = [\n",
        "    'Urea 20kg + Compost', 'Urea 30kg split', 'Precision fertigation',\n",
        "    'Urea 10kg + FYM', 'Cow dung slurry', 'Compost only',\n",
        "    'Urea + Vermicompost', 'Urea 15kg', 'Urea 25kg split',\n",
        "    'Wood ash', 'MOP 15kg', 'MOP + FYM', 'Potash Spray',\n",
        "    'Banana compost', 'Potash foliar', 'MOP 10kg',\n",
        "    'DAP 20kg', 'DAP + Compost', 'DAP foliar spray', 'Bone meal',\n",
        "    'Rock phosphate', 'DAP 10kg', 'DAP foliar'\n",
        "]\n",
        "\n",
        "recommended = recommend_remedy(predicted_deficiency, farmer_data['income'], farmer_data['region'],\n",
        "                               farmer_data['soil_type'], farmer_data['season'], remedy_options)\n",
        "\n",
        "print(f\"\\n🌾 Recommended Remedies for {predicted_deficiency} Deficiency:\")\n",
        "for r in recommended:\n",
        "    print(f\" - {r}\")\n"
      ]
    }
  ],
  "metadata": {
    "accelerator": "GPU",
    "colab": {
      "gpuType": "T4",
      "provenance": []
    },
    "kernelspec": {
      "display_name": "Python 3",
      "name": "python3"
    },
    "language_info": {
      "codemirror_mode": {
        "name": "ipython",
        "version": 3
      },
      "file_extension": ".py",
      "mimetype": "text/x-python",
      "name": "python",
      "nbconvert_exporter": "python",
      "pygments_lexer": "ipython3",
      "version": "3.13.2"
    }
  },
  "nbformat": 4,
  "nbformat_minor": 5
}
